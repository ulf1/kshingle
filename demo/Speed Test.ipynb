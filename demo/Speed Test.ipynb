{
 "cells": [
  {
   "cell_type": "code",
   "execution_count": 1,
   "id": "ffdab66c-8428-443d-9cb0-635c5875a9c5",
   "metadata": {},
   "outputs": [],
   "source": [
    "import sys\n",
    "sys.path.append(\"..\")"
   ]
  },
  {
   "cell_type": "code",
   "execution_count": 2,
   "id": "4b971469-32c4-4ea6-8c2b-721c31596873",
   "metadata": {},
   "outputs": [],
   "source": [
    "from collections import Counter\n",
    "import kshingle as ks\n",
    "import itertools"
   ]
  },
  {
   "cell_type": "markdown",
   "id": "84571b25-1e61-462c-b19f-3186c37b82cc",
   "metadata": {},
   "source": [
    "### Download and read text data"
   ]
  },
  {
   "cell_type": "code",
   "execution_count": 3,
   "id": "b213580f-77fb-43a5-aff8-fa65baefd29e",
   "metadata": {},
   "outputs": [],
   "source": [
    "%%capture\n",
    "!wget -nc --no-check-certificate https://pcai056.informatik.uni-leipzig.de/downloads/corpora/deu_newscrawl-public_2019_10K.tar.gz\n",
    "!tar -xvf deu_newscrawl-public_2019_10K.tar.gz\n",
    "!mv deu_newscrawl-public_2019_10K/deu_newscrawl-public_2019_10K-sentences.txt sentences.txt\n",
    "!rm -rf deu_newscrawl-public_2019_10K\n",
    "!rm deu_newscrawl-public_2019_10K.tar.gz"
   ]
  },
  {
   "cell_type": "code",
   "execution_count": 4,
   "id": "d56073b8-226b-433a-ace5-4f7282b9a606",
   "metadata": {},
   "outputs": [],
   "source": [
    "with open(\"sentences.txt\", \"r\") as fp:\n",
    "    dat = fp.readlines()\n",
    "\n",
    "dat = dat[:1000]\n",
    "text = \" \".join([s.split('\\t')[1].split('\\n')[0] for s in dat])\n",
    "\n",
    "dat = dat[:50]\n",
    "text2 = \" \".join([s.split('\\t')[1].split('\\n')[0] for s in dat])"
   ]
  },
  {
   "cell_type": "markdown",
   "id": "660c6849-e489-43b7-bdca-6f9118df0cf4",
   "metadata": {},
   "source": [
    "### Select shingles with CEWS"
   ]
  },
  {
   "cell_type": "code",
   "execution_count": 5,
   "id": "81e272e4-2435-4c77-9f82-9228b21fcc14",
   "metadata": {},
   "outputs": [
    {
     "name": "stdout",
     "output_type": "stream",
     "text": [
      "8638\n",
      "CPU times: user 21.2 ms, sys: 3.93 ms, total: 25.2 ms\n",
      "Wall time: 24.3 ms\n"
     ]
    }
   ],
   "source": [
    "%%time\n",
    "db = Counter()\n",
    "for doc in [text2]:\n",
    "    # extract all shingles of different k-length (no wildcards!)\n",
    "    shingles = ks.shingleseqs_k(doc, k=5)  # bump it up to 8\n",
    "    # count all unique shingles, and add the result\n",
    "    db += Counter(itertools.chain(*shingles))\n",
    "\n",
    "db = dict(db)\n",
    "print(len(db))"
   ]
  },
  {
   "cell_type": "code",
   "execution_count": 6,
   "id": "72df5902-6e2a-463e-a9bd-7042fa857a1d",
   "metadata": {},
   "outputs": [
    {
     "name": "stdout",
     "output_type": "stream",
     "text": [
      "CPU times: user 2min 48s, sys: 1.1 s, total: 2min 49s\n",
      "Wall time: 3min 1s\n"
     ]
    }
   ],
   "source": [
    "%%time\n",
    "memo = ks.cews(\n",
    "    db, max_wildcards=1, \n",
    "    min_samples_leaf=10, \n",
    "    threshold=0.9)\n"
   ]
  },
  {
   "cell_type": "markdown",
   "id": "dd92008e-8cb6-4dfd-b8c5-5fe638649b7b",
   "metadata": {},
   "source": [
    "### Encode with hashing\n",
    "Convert selected shingles to hashes"
   ]
  },
  {
   "cell_type": "code",
   "execution_count": 7,
   "id": "a9886cb8-6929-44fb-94c6-42a9e34c7513",
   "metadata": {},
   "outputs": [
    {
     "name": "stdout",
     "output_type": "stream",
     "text": [
      "CPU times: user 8.61 ms, sys: 1.23 ms, total: 9.83 ms\n",
      "Wall time: 9.23 ms\n"
     ]
    }
   ],
   "source": [
    "%%time\n",
    "HASHES = ks.shingles_to_hashes(memo, wildcard='\\uFFFF')\n",
    "unkid = sum([len(hashes) for hashes in HASHES.values()])"
   ]
  },
  {
   "cell_type": "markdown",
   "id": "022d82d4-bfbb-400b-9a8f-db79361630b5",
   "metadata": {},
   "source": [
    "Generate all shingles"
   ]
  },
  {
   "cell_type": "code",
   "execution_count": 8,
   "id": "e4383eb2-fa2e-4469-8761-93857cb69d53",
   "metadata": {},
   "outputs": [
    {
     "name": "stdout",
     "output_type": "stream",
     "text": [
      "CPU times: user 34.1 s, sys: 747 ms, total: 34.8 s\n",
      "Wall time: 35.6 s\n"
     ]
    }
   ],
   "source": [
    "%%time\n",
    "multiseq = ks.shingleseqs_hashes(text, k=5)"
   ]
  },
  {
   "cell_type": "markdown",
   "id": "2be17619-1016-4a54-8766-1ed9af831073",
   "metadata": {},
   "source": [
    "Encode data"
   ]
  },
  {
   "cell_type": "code",
   "execution_count": 9,
   "id": "5a3362ea-9712-48e4-9522-75859057b492",
   "metadata": {},
   "outputs": [
    {
     "name": "stdout",
     "output_type": "stream",
     "text": [
      "CPU times: user 37.2 s, sys: 428 ms, total: 37.6 s\n",
      "Wall time: 39.8 s\n"
     ]
    }
   ],
   "source": [
    "%%time\n",
    "allseqs = ks.encode_multi_match(\n",
    "    multiseq, num_matches=3, HASHES=HASHES, unkid=unkid)"
   ]
  },
  {
   "cell_type": "markdown",
   "id": "1670f86b-8d50-44fe-80a4-7cface1b7795",
   "metadata": {},
   "source": [
    "strings Wall time: 10.1 s + 33.8 s\n",
    "\n",
    "digest Wall time: 34.7 s + 32.1 s\n",
    "\n",
    "hexdigest Wall time: 35.6 s + 39.8 s"
   ]
  },
  {
   "cell_type": "markdown",
   "id": "3e1f0190-e8d5-4d4a-a8ba-5f5899353165",
   "metadata": {},
   "source": [
    "### Encode with patterns (deprecated)"
   ]
  },
  {
   "cell_type": "code",
   "execution_count": 10,
   "id": "120385ff-cfe3-4fa3-806e-a23e7a82fdb3",
   "metadata": {},
   "outputs": [
    {
     "name": "stdout",
     "output_type": "stream",
     "text": [
      "CPU times: user 90 ms, sys: 5.86 ms, total: 95.9 ms\n",
      "Wall time: 123 ms\n"
     ]
    },
    {
     "name": "stderr",
     "output_type": "stream",
     "text": [
      "/Users/uh/projects/paper-293/kshingle/.venv/lib/python3.7/site-packages/ipykernel_launcher.py:1: DeprecationWarning: 'kshingle.shingles_to_patterns' is deprecated;use 'kshingle.shingles_to_hashes' instead.\n",
      "  \"\"\"Entry point for launching an IPython kernel.\n"
     ]
    }
   ],
   "source": [
    "%%time\n",
    "PATTERNS = ks.shingles_to_patterns(memo, wildcard='\\uFFFF')\n",
    "unkid = sum([len(pats) for pats in PATTERNS.values()])"
   ]
  },
  {
   "cell_type": "markdown",
   "id": "a5fc23ed-b127-4674-b949-9e4d7ae66998",
   "metadata": {},
   "source": [
    "Encode data"
   ]
  },
  {
   "cell_type": "code",
   "execution_count": 11,
   "id": "858b5c0b-c6fc-4859-a4c3-53d4e2d6d9b4",
   "metadata": {},
   "outputs": [
    {
     "name": "stderr",
     "output_type": "stream",
     "text": [
      "/Users/uh/projects/paper-293/kshingle/.venv/lib/python3.7/site-packages/ipykernel_launcher.py:2: DeprecationWarning: 'kshingle.encode_multi_match_corpus' is deprecated;use 'kshingle.encode_multi_match' instead.\n",
      "  \n"
     ]
    },
    {
     "name": "stdout",
     "output_type": "stream",
     "text": [
      "CPU times: user 32.7 s, sys: 172 ms, total: 32.9 s\n",
      "Wall time: 33 s\n"
     ]
    }
   ],
   "source": [
    "%%time\n",
    "encoded = ks.encode_multi_match_corpus(\n",
    "    [text], k=5, PATTERNS=PATTERNS, num_matches=3, unkid=unkid)"
   ]
  },
  {
   "cell_type": "code",
   "execution_count": null,
   "id": "93a08fbe-2e03-4e6c-ac3d-3aab994e2807",
   "metadata": {},
   "outputs": [],
   "source": []
  }
 ],
 "metadata": {
  "kernelspec": {
   "display_name": "Python 3 (ipykernel)",
   "language": "python",
   "name": "python3"
  },
  "language_info": {
   "codemirror_mode": {
    "name": "ipython",
    "version": 3
   },
   "file_extension": ".py",
   "mimetype": "text/x-python",
   "name": "python",
   "nbconvert_exporter": "python",
   "pygments_lexer": "ipython3",
   "version": "3.7.9"
  }
 },
 "nbformat": 4,
 "nbformat_minor": 5
}
